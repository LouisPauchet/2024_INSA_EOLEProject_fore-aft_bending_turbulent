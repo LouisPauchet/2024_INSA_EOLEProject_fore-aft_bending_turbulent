{
 "cells": [
  {
   "cell_type": "code",
   "execution_count": 38,
   "id": "c2264ee7-b782-4bbd-b8a3-b0858dd7b00a",
   "metadata": {},
   "outputs": [],
   "source": [
    "import numpy as np\n",
    "import matplotlib.pyplot as plt\n",
    "from numpy.fft import fftshift, ifftn\n",
    "from mpl_toolkits.mplot3d import Axes3D"
   ]
  },
  {
   "cell_type": "code",
   "execution_count": 35,
   "id": "cce87c84-d01a-4f90-bfee-0f25a9bdde2d",
   "metadata": {},
   "outputs": [],
   "source": [
    "def UShear(z, z_ref=100, u_inf=10, model=\"powerlaw\", z0=0.03):\n",
    "    if model == \"powerlaw\":\n",
    "        return (z / z_ref) ** (0.14285714285714285) * u_inf\n",
    "    elif model == \"loglaw\":\n",
    "        kappa = 0.4  # von Karman constant\n",
    "        U_star = u_inf / (np.log(z_ref / z0) / kappa)  # Friction velocity\n",
    "        return (U_star / kappa) * np.log(z / z0)\n",
    "    \n",
    "def VonKarmanTurbulenceField(Lx, Ly, Lz, Nx, Ny, Nz, L):\n",
    "    # mesh for the wave number vector k\n",
    "    ky, kz, kx = np.meshgrid((np.pi / Ly) * np.arange(-Ny, Ny, 2), \n",
    "                             (np.pi / Lz) * np.arange(-Nz, Nz, 2), \n",
    "                             (np.pi / Lx) * np.arange(-Nx, Nx, 2), \n",
    "                             indexing='ij')\n",
    "    \n",
    "    # power spectrum, the exponent already contains the factor 1/2 for the square root\n",
    "    S = (L**(-2) + kx**2 + ky**2 + kz**2)**(-17/12)\n",
    "    \n",
    "    # random phase spectra with uniformly distributed phases in [0, 2pi]\n",
    "    PhiX = np.exp(2j * np.pi * np.random.rand(Ny, Nz, Nx))\n",
    "    PhiY = np.exp(2j * np.pi * np.random.rand(Ny, Nz, Nx))\n",
    "    PhiZ = np.exp(2j * np.pi * np.random.rand(Ny, Nz, Nx))\n",
    "    \n",
    "    # inverse Fourier transform, using the cross product with the k vector\n",
    "    u = ifftn(fftshift(S * (ky * PhiZ - kz * PhiY)), s=(Ny, Nz, Nx)).real\n",
    "    v = ifftn(fftshift(S * (kz * PhiX - kx * PhiZ)), s=(Ny, Nz, Nx)).real\n",
    "    w = ifftn(fftshift(S * (kx * PhiY - ky * PhiX)), s=(Ny, Nz, Nx)).real\n",
    "    \n",
    "    return u, v, w\n",
    "\n",
    "def integrate_over_disk(f, R, nodes, weights):\n",
    "    result = 0\n",
    "    for i in range(len(nodes)):\n",
    "        r = R * nodes[i][2]  # scaling the radius\n",
    "        phi = nodes[i][3]     # angle\n",
    "        w = R**2 * weights[i] # scaled weight\n",
    "        result += w * f(r, phi)\n",
    "    return result\n",
    "\n",
    "\n",
    "\n",
    "def solve_dynamics_in_fourier(M, gamma, K, f_t, dt):\n",
    "    # Fourier transform of forcing\n",
    "    F_omega = np.fft.fft(f_t)\n",
    "    \n",
    "    # Frequency array\n",
    "    omega = np.fft.fftfreq(len(f_t), dt) * 2 * np.pi\n",
    "    \n",
    "    # Solving in Fourier space\n",
    "    epsilon = 1e-8  # Small damping factor to avoid division by zero\n",
    "    X_omega = F_omega / (-omega**2 * M + 1j * omega * gamma + K + epsilon)\n",
    "\n",
    "    \n",
    "    # Inverse Fourier transform to get back to time domain\n",
    "    x_t = np.fft.ifft(X_omega).real\n",
    "    \n",
    "    return x_t\n"
   ]
  },
  {
   "cell_type": "code",
   "execution_count": 47,
   "id": "df1f304c-9943-49ac-9b2e-3073a1409842",
   "metadata": {},
   "outputs": [],
   "source": [
    "\n",
    "# Parameters based on your assignment\n",
    "U = 10  # Transport velocity in m/s\n",
    "Lx = 6000  # Length of the domain in the x-direction (600s * 10ms/s = 6000 m)\n",
    "Ly = 384   # Width in the y-direction (384 m)\n",
    "Lz = 384   # Height in the z-direction (384 m)\n",
    "Nx = 8192  # Number of grid points in x-direction\n",
    "Ny = 64    # Number of grid points in y-direction\n",
    "Nz = 64    # Number of grid points in z-direction\n",
    "L = 35.4   # Integral length scale in meters\n",
    "\n",
    "# Generate the turbulent velocity fields\n",
    "u_turb, v_turb, w_turb = VonKarmanTurbulenceField(Lx, Ly, Lz, Nx, Ny, Nz, L)"
   ]
  }
 ],
 "metadata": {
  "kernelspec": {
   "display_name": "Python 3 (ipykernel)",
   "language": "python",
   "name": "python3"
  },
  "language_info": {
   "codemirror_mode": {
    "name": "ipython",
    "version": 3
   },
   "file_extension": ".py",
   "mimetype": "text/x-python",
   "name": "python",
   "nbconvert_exporter": "python",
   "pygments_lexer": "ipython3",
   "version": "3.10.12"
  }
 },
 "nbformat": 4,
 "nbformat_minor": 5
}
